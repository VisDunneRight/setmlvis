{
 "cells": [
  {
   "cell_type": "markdown",
   "metadata": {},
   "source": [
    "# Introduction"
   ]
  },
  {
   "cell_type": "code",
   "execution_count": 1,
   "metadata": {},
   "outputs": [],
   "source": [
    "from setmlvis import SetMLVisWidget, createSetJson"
   ]
  },
  {
   "cell_type": "code",
   "execution_count": 2,
   "metadata": {},
   "outputs": [
    {
     "name": "stdout",
     "output_type": "stream",
     "text": [
      "GetModel, Empty, Parse: 0.011820077896118164 s\n",
      "Each 000000205105.jpg 0.02792501449584961\n",
      "Each 000000035197.jpg 0.03125786781311035\n",
      "Each 000000092939.jpg 0.11008310317993164\n",
      "Each 000000404249.jpg 0.014780998229980469\n",
      "Each 000000254368.jpg 0.027708768844604492\n",
      "Each 000000372349.jpg 0.037317752838134766\n",
      "Each 000000323895.jpg 0.15120410919189453\n",
      "Each 000000205324.jpg 0.03153491020202637\n",
      "Each 000000283268.jpg 0.10520124435424805\n",
      "Each 000000110999.jpg 0.01336812973022461\n",
      "Each 000000271471.jpg 0.06901812553405762\n",
      "Each 000000579635.jpg 0.23041915893554688\n",
      "Each 000000080153.jpg 0.01649618148803711\n",
      "Each 000000515579.jpg 0.15105986595153809\n",
      "Each 000000506178.jpg 0.2555263042449951\n",
      "Each 000000569273.jpg 0.18762588500976562\n",
      "Each 000000489014.jpg 0.042994022369384766\n",
      "Each 000000420916.jpg 0.356842041015625\n",
      "Each 000000099114.jpg 1.9722437858581543\n",
      "Each 000000504589.jpg 0.029092788696289062\n",
      "Each 000000414673.jpg 2.186469078063965\n",
      "Each 000000481390.jpg 7.982327938079834\n",
      "Each 000000400815.jpg 0.021951913833618164\n",
      "Each 000000512929.jpg 0.08923077583312988\n",
      "Each 000000154004.jpg 8.042591094970703\n",
      "finalDictionary: 9.41067385673523 s\n",
      "MetaDate: 4.6253204345703125e-05 s\n"
     ]
    }
   ],
   "source": [
    "jsonfile = createSetJson(folderName=\"data/twentyFiveImages/\", objectClass=\"person\", jsonName=\"twentyFiveImages\", setIou=0.5)"
   ]
  },
  {
   "cell_type": "code",
   "execution_count": null,
   "metadata": {},
   "outputs": [],
   "source": [
    "jsonfile = createSetJson(folderName=\"droneVideoColorCorrectFormat/\", objectClass=\"1\", jsonName=\"droneVideoColorCorrectFormat\", setIou=0.3)"
   ]
  },
  {
   "cell_type": "code",
   "execution_count": null,
   "metadata": {},
   "outputs": [],
   "source": [
    "jsonfile = createSetJson(folderName=\"droneProjectedData/\", objectClass=\"1\", jsonName=\"droneProjectedData\", setIou=0.3)"
   ]
  },
  {
   "cell_type": "code",
   "execution_count": 4,
   "metadata": {},
   "outputs": [],
   "source": [
    "import json\n",
    "f = open('twentyFiveImagesv2.json')\n",
    "jsonfile = json.load(f)"
   ]
  },
  {
   "cell_type": "code",
   "execution_count": null,
   "metadata": {},
   "outputs": [],
   "source": [
    "import json\n",
    "f = open('twoModelsDict.json')\n",
    "jsonfile = json.load(f)"
   ]
  },
  {
   "cell_type": "code",
   "execution_count": 3,
   "metadata": {
    "scrolled": true
   },
   "outputs": [
    {
     "data": {
      "application/vnd.jupyter.widget-view+json": {
       "model_id": "a48d452159724ee09d9f519b0f39dce7",
       "version_major": 2,
       "version_minor": 0
      },
      "text/plain": [
       "SetMLVisWidget(dataset={'meta': {'folderName': 'data/twentyFiveImages/images/', 'modelNames': ['detr-resnet-10…"
      ]
     },
     "execution_count": 3,
     "metadata": {},
     "output_type": "execute_result"
    }
   ],
   "source": [
    "w = SetMLVisWidget(data=jsonfile)\n",
    "w"
   ]
  },
  {
   "cell_type": "code",
   "execution_count": null,
   "metadata": {},
   "outputs": [],
   "source": [
    "w.selectedImgs\n",
    "# a = SetMLVisWidget(data=jsonfile, selectedImgs=w.selectedImgs)\n",
    "# a"
   ]
  },
  {
   "cell_type": "code",
   "execution_count": null,
   "metadata": {},
   "outputs": [],
   "source": [
    "import fiftyone as fo\n",
    "import fiftyone.zoo as foz\n",
    "\n",
    "dataset = foz.load_zoo_dataset(\"quickstart\")\n",
    "# session = fo.launch_app(dataset)"
   ]
  },
  {
   "cell_type": "code",
   "execution_count": null,
   "metadata": {
    "scrolled": true
   },
   "outputs": [],
   "source": [
    "session = fo.launch_app(dataset)\n"
   ]
  },
  {
   "cell_type": "code",
   "execution_count": null,
   "metadata": {},
   "outputs": [],
   "source": []
  }
 ],
 "metadata": {
  "kernelspec": {
   "display_name": "Python 3 (ipykernel)",
   "language": "python",
   "name": "python3"
  },
  "language_info": {
   "codemirror_mode": {
    "name": "ipython",
    "version": 3
   },
   "file_extension": ".py",
   "mimetype": "text/x-python",
   "name": "python",
   "nbconvert_exporter": "python",
   "pygments_lexer": "ipython3",
   "version": "3.9.13"
  }
 },
 "nbformat": 4,
 "nbformat_minor": 4
}
